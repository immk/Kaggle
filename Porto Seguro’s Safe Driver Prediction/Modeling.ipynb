{
 "cells": [
  {
   "cell_type": "markdown",
   "metadata": {},
   "source": [
    "## 1. Data Loading "
   ]
  },
  {
   "cell_type": "code",
   "execution_count": 1,
   "metadata": {},
   "outputs": [],
   "source": [
    "import pandas as pd\n",
    "import numpy as np\n",
    "\n",
    "import seaborn as sns\n",
    "import matplotlib\n",
    "import matplotlib.pyplot as plt\n",
    "%matplotlib inline"
   ]
  },
  {
   "cell_type": "code",
   "execution_count": 2,
   "metadata": {},
   "outputs": [
    {
     "name": "stdout",
     "output_type": "stream",
     "text": [
      "[TRAIN] : (595212, 59)\n",
      "[TEST]  : (892816, 58)\n"
     ]
    }
   ],
   "source": [
    "data_path = '../dataset/'\n",
    "train_df = pd.read_csv(data_path + 'train.csv')\n",
    "test_df = pd.read_csv(data_path+ 'test.csv')\n",
    "\n",
    "print(\"[TRAIN] : {}\".format(train_df.shape))\n",
    "print(\"[TEST]  : {}\".format(test_df.shape))"
   ]
  },
  {
   "cell_type": "markdown",
   "metadata": {},
   "source": [
    "## 2. Feature Selection"
   ]
  },
  {
   "cell_type": "code",
   "execution_count": 3,
   "metadata": {},
   "outputs": [],
   "source": [
    "feature_list = [\n",
    "'ps_ind_06_bin',\n",
    "'ps_ind_07_bin',\n",
    "'ps_ind_08_bin',\n",
    "'ps_ind_09_bin',\n",
    "'ps_ind_16_bin',\n",
    "'ps_ind_17_bin',\n",
    "'ps_ind_18_bin',\n",
    "'ps_ind_04_cat',\n",
    "'ps_ind_05_cat',\n",
    "'ps_ind_01',\n",
    "'ps_ind_03',\n",
    "'ps_ind_14',\n",
    "'ps_ind_15',\n",
    "'ps_reg_01',\n",
    "'ps_reg_02',\n",
    "'ps_reg_03',\n",
    "'ps_car_01_cat',\n",
    "'ps_car_02_cat',\n",
    "'ps_car_03_cat',\n",
    "'ps_car_04_cat',\n",
    "'ps_car_05_cat',\n",
    "'ps_car_06_cat',\n",
    "'ps_car_07_cat',\n",
    "'ps_car_08_cat',\n",
    "'ps_car_09_cat',\n",
    "'ps_car_10_cat',\n",
    "'ps_car_11',\n",
    "'ps_car_12',\n",
    "'ps_car_13',\n",
    "'ps_car_14',\n",
    "'ps_car_15',\n",
    "]"
   ]
  },
  {
   "cell_type": "code",
   "execution_count": 4,
   "metadata": {},
   "outputs": [
    {
     "name": "stdout",
     "output_type": "stream",
     "text": [
      "(595212, 102)\n"
     ]
    }
   ],
   "source": [
    "tr_df = train_df[feature_list + ['target']].copy()\n",
    "\n",
    "for feature in feature_list:\n",
    "    if 'bin' in feature or 'cat' in feature:\n",
    "        temp_df = pd.get_dummies(tr_df[feature], prefix=feature) # , drop_first=True\n",
    "        tr_df = pd.concat([tr_df, temp_df], axis=1)\n",
    "        tr_df.drop(columns=feature, inplace=True)\n",
    "print(tr_df.shape)"
   ]
  },
  {
   "cell_type": "code",
   "execution_count": 5,
   "metadata": {},
   "outputs": [
    {
     "name": "stdout",
     "output_type": "stream",
     "text": [
      "(892816, 101)\n"
     ]
    }
   ],
   "source": [
    "ts_df = test_df[feature_list].copy()\n",
    "\n",
    "for feature in feature_list:\n",
    "    if 'bin' in feature or 'cat' in feature:\n",
    "        temp_df = pd.get_dummies(ts_df[feature], prefix=feature) #, drop_first=True\n",
    "        ts_df = pd.concat([ts_df, temp_df], axis=1)\n",
    "        ts_df.drop(columns=feature, inplace=True)\n",
    "print(ts_df.shape)"
   ]
  },
  {
   "cell_type": "markdown",
   "metadata": {},
   "source": [
    "## 3. Modeling - Stacking\n",
    "\n",
    "- 참고 : [https://github.com/ishuca/Nested-CV-Stacking/blob/master/Nested_CV_Stacking.iynb]"
   ]
  },
  {
   "cell_type": "code",
   "execution_count": 35,
   "metadata": {},
   "outputs": [],
   "source": [
    "from sklearn.model_selection import StratifiedKFold, train_test_split, cross_val_score\n",
    "from sklearn.linear_model import LogisticRegression\n",
    "from sklearn.ensemble import RandomForestClassifier, ExtraTreesClassifier, GradientBoostingClassifier\n",
    "from sklearn.linear_model import LogisticRegressionCV\n",
    "import numpy as np"
   ]
  },
  {
   "cell_type": "code",
   "execution_count": 14,
   "metadata": {},
   "outputs": [],
   "source": [
    "tr_all_y = tr_df['target']\n",
    "tr_all_X = tr_df.drop(columns='target', axis=1)\n",
    "ts_X = ts_df"
   ]
  },
  {
   "cell_type": "code",
   "execution_count": 31,
   "metadata": {},
   "outputs": [
    {
     "data": {
      "text/plain": [
       "[array([    10,     11,     13, ..., 595202, 595205, 595208]),\n",
       " array([     0,      2,      4, ..., 595203, 595204, 595209]),\n",
       " array([     1,      3,      6, ..., 595207, 595210, 595211])]"
      ]
     },
     "execution_count": 31,
     "metadata": {},
     "output_type": "execute_result"
    }
   ],
   "source": [
    "skf = StratifiedKFold(n_splits=3, shuffle=True, random_state=1234)\n",
    "\n",
    "folds = [x[1] for x in list(skf.split(tr_all_X, tr_all_y))]\n",
    "folds"
   ]
  },
  {
   "cell_type": "code",
   "execution_count": 32,
   "metadata": {},
   "outputs": [],
   "source": [
    "clfs = [RandomForestClassifier(n_estimators=100, n_jobs=-1, criterion='gini'),\n",
    "        #RandomForestClassifier(n_estimators=100, n_jobs=-1, criterion='entropy'),\n",
    "        ExtraTreesClassifier(n_estimators=100, n_jobs=-1, criterion='gini'),\n",
    "        #ExtraTreesClassifier(n_estimators=100, n_jobs=-1, criterion='entropy'),\n",
    "        GradientBoostingClassifier(learning_rate=0.05, subsample=0.5, max_depth=6, n_estimators=50)]"
   ]
  },
  {
   "cell_type": "code",
   "execution_count": 33,
   "metadata": {},
   "outputs": [
    {
     "name": "stdout",
     "output_type": "stream",
     "text": [
      "2\n",
      "[[0. 0. 0. 0. 0. 0.]\n",
      " [0. 0. 0. 0. 0. 0.]\n",
      " [0. 0. 0. 0. 0. 0.]\n",
      " ...\n",
      " [0. 0. 0. 0. 0. 0.]\n",
      " [0. 0. 0. 0. 0. 0.]\n",
      " [0. 0. 0. 0. 0. 0.]]\n",
      "RangeIndex(start=0, stop=595212, step=1)\n",
      "[     4     11     15 ... 595207 595210 595211]\n"
     ]
    },
    {
     "name": "stderr",
     "output_type": "stream",
     "text": [
      "\n",
      "\n",
      "0it [00:00, ?it/s]\n",
      "\n",
      "\n",
      "  0%|                                                    | 0/3 [00:00<?, ?it/s]"
     ]
    },
    {
     "name": "stdout",
     "output_type": "stream",
     "text": [
      "[array([     0,      2,      4, ..., 595203, 595204, 595209]), array([     1,      3,      6, ..., 595207, 595210, 595211])]\n",
      "[    10     11     13 ... 595202 595205 595208]\n"
     ]
    },
    {
     "name": "stderr",
     "output_type": "stream",
     "text": [
      "\n",
      "\n",
      "\n",
      " 33%|██████████████▋                             | 1/3 [01:37<03:15, 97.69s/it]"
     ]
    },
    {
     "name": "stdout",
     "output_type": "stream",
     "text": [
      "[array([    10,     11,     13, ..., 595202, 595205, 595208]), array([     1,      3,      6, ..., 595207, 595210, 595211])]\n",
      "[     0      2      4 ... 595203 595204 595209]\n"
     ]
    },
    {
     "name": "stderr",
     "output_type": "stream",
     "text": [
      "\n",
      "\n",
      "\n",
      " 67%|█████████████████████████████▎              | 2/3 [03:22<01:39, 99.72s/it]"
     ]
    },
    {
     "name": "stdout",
     "output_type": "stream",
     "text": [
      "[array([    10,     11,     13, ..., 595202, 595205, 595208]), array([     0,      2,      4, ..., 595203, 595204, 595209])]\n",
      "[     1      3      6 ... 595207 595210 595211]\n"
     ]
    },
    {
     "name": "stderr",
     "output_type": "stream",
     "text": [
      "\n",
      "\n",
      "\n",
      "100%|████████████████████████████████████████████| 3/3 [05:01<00:00, 99.68s/it]\n",
      "\n",
      "\n",
      "\n",
      "\n",
      "1it [05:01, 301.75s/it]\n",
      "\n",
      "\n",
      "  0%|                                                    | 0/3 [00:00<?, ?it/s]"
     ]
    },
    {
     "name": "stdout",
     "output_type": "stream",
     "text": [
      "[array([     0,      2,      4, ..., 595203, 595204, 595209]), array([     1,      3,      6, ..., 595207, 595210, 595211])]\n",
      "[    10     11     13 ... 595202 595205 595208]\n"
     ]
    },
    {
     "name": "stderr",
     "output_type": "stream",
     "text": [
      "\n",
      "\n",
      "\n",
      " 33%|██████████████▎                            | 1/3 [02:11<04:21, 131.00s/it]"
     ]
    },
    {
     "name": "stdout",
     "output_type": "stream",
     "text": [
      "[array([    10,     11,     13, ..., 595202, 595205, 595208]), array([     1,      3,      6, ..., 595207, 595210, 595211])]\n",
      "[     0      2      4 ... 595203 595204 595209]\n"
     ]
    },
    {
     "name": "stderr",
     "output_type": "stream",
     "text": [
      "\n",
      "\n",
      "\n",
      " 67%|████████████████████████████▋              | 2/3 [04:30<02:13, 133.42s/it]"
     ]
    },
    {
     "name": "stdout",
     "output_type": "stream",
     "text": [
      "[array([    10,     11,     13, ..., 595202, 595205, 595208]), array([     0,      2,      4, ..., 595203, 595204, 595209])]\n",
      "[     1      3      6 ... 595207 595210 595211]\n"
     ]
    },
    {
     "name": "stderr",
     "output_type": "stream",
     "text": [
      "\n",
      "\n",
      "\n",
      "100%|███████████████████████████████████████████| 3/3 [06:49<00:00, 135.14s/it]\n",
      "\n",
      "\n",
      "\n",
      "\n",
      "2it [11:50, 333.99s/it]\n",
      "\n",
      "\n",
      "  0%|                                                    | 0/3 [00:00<?, ?it/s]"
     ]
    },
    {
     "name": "stdout",
     "output_type": "stream",
     "text": [
      "[array([     0,      2,      4, ..., 595203, 595204, 595209]), array([     1,      3,      6, ..., 595207, 595210, 595211])]\n",
      "[    10     11     13 ... 595202 595205 595208]\n"
     ]
    },
    {
     "name": "stderr",
     "output_type": "stream",
     "text": [
      "\n",
      "\n",
      "\n",
      " 33%|██████████████▎                            | 1/3 [05:38<11:17, 338.79s/it]"
     ]
    },
    {
     "name": "stdout",
     "output_type": "stream",
     "text": [
      "[array([    10,     11,     13, ..., 595202, 595205, 595208]), array([     1,      3,      6, ..., 595207, 595210, 595211])]\n",
      "[     0      2      4 ... 595203 595204 595209]\n"
     ]
    },
    {
     "name": "stderr",
     "output_type": "stream",
     "text": [
      "\n",
      "\n",
      "\n",
      " 67%|████████████████████████████▋              | 2/3 [11:14<05:38, 338.01s/it]"
     ]
    },
    {
     "name": "stdout",
     "output_type": "stream",
     "text": [
      "[array([    10,     11,     13, ..., 595202, 595205, 595208]), array([     0,      2,      4, ..., 595203, 595204, 595209])]\n",
      "[     1      3      6 ... 595207 595210 595211]\n"
     ]
    },
    {
     "name": "stderr",
     "output_type": "stream",
     "text": [
      "\n",
      "\n",
      "\n",
      "100%|███████████████████████████████████████████| 3/3 [17:22<00:00, 346.77s/it]\n",
      "\n",
      "\n",
      "\n",
      "\n",
      "3it [29:13, 546.46s/it]\n",
      "\n"
     ]
    }
   ],
   "source": [
    "from tqdm import tqdm\n",
    "class_num = len(np.unique(tr_all_y))\n",
    "print(class_num)\n",
    "\n",
    "dataset_blend_train_not_nested = np.zeros((tr_all_X.shape[0], len(clfs)*class_num))\n",
    "dataset_blend_test = np.zeros((ts_X.shape[0], len(clfs)*class_num))\n",
    "print(dataset_blend_train_not_nested)\n",
    "print(tr_all_X.index)\n",
    "print(np.concatenate(inner_folds).ravel())\n",
    "\n",
    "for k, clf in tqdm(enumerate(clfs)):\n",
    "    for i in tqdm(range(0,len(folds))):\n",
    "        target_fold = folds[i]\n",
    "        inner_folds = folds[0:i]+folds[i+1:]\n",
    "        print(inner_folds)\n",
    "        print(target_fold)\n",
    "        \n",
    "        clf.fit(tr_all_X.loc[np.concatenate(inner_folds).ravel()], tr_all_y.loc[np.concatenate(inner_folds).ravel()])\n",
    "        pred = clf.predict_proba(tr_all_X.loc[target_fold])\n",
    "        dataset_blend_train_not_nested[target_fold, k*class_num:(k*class_num+class_num)] = pred"
   ]
  },
  {
   "cell_type": "code",
   "execution_count": 36,
   "metadata": {},
   "outputs": [
    {
     "name": "stderr",
     "output_type": "stream",
     "text": [
      "C:\\Users\\immk\\Anaconda3\\lib\\site-packages\\sklearn\\model_selection\\_split.py:1943: FutureWarning: You should specify a value for 'cv' instead of relying on the default value. The default value will change from 3 to 5 in version 0.22.\n",
      "  warnings.warn(CV_WARNING, FutureWarning)\n"
     ]
    },
    {
     "data": {
      "text/plain": [
       "LogisticRegressionCV(Cs=10, class_weight=None, cv='warn', dual=False,\n",
       "           fit_intercept=True, intercept_scaling=1.0, max_iter=100,\n",
       "           multi_class='warn', n_jobs=None, penalty='l2',\n",
       "           random_state=None, refit=False, scoring=None, solver='lbfgs',\n",
       "           tol=0.0001, verbose=0)"
      ]
     },
     "execution_count": 36,
     "metadata": {},
     "output_type": "execute_result"
    }
   ],
   "source": [
    "stacker = LogisticRegressionCV(refit=False)\n",
    "stacker.fit(dataset_blend_train_not_nested, tr_all_y)"
   ]
  },
  {
   "cell_type": "markdown",
   "metadata": {},
   "source": [
    "## 4. Score "
   ]
  },
  {
   "cell_type": "code",
   "execution_count": 51,
   "metadata": {},
   "outputs": [],
   "source": [
    "def gini(actual, pred, cmpcol=0, sortcol=1):\n",
    "    assert (len(actual) == len(pred))\n",
    "    all = np.asarray(np.c_[actual, pred, np.arange(len(actual))], dtype=np.float)\n",
    "    all = all[np.lexsort((all[:, 2], -1 * all[:, 1]))]\n",
    "    totalLosses = all[:, 0].sum()\n",
    "    giniSum = all[:, 0].cumsum().sum() / totalLosses\n",
    "\n",
    "    giniSum -= (len(actual) + 1) / 2.\n",
    "    return giniSum / len(actual)\n",
    "\n",
    "\n",
    "def gini_normalized(a, p):\n",
    "    return gini(a, p) / gini(a, a)"
   ]
  },
  {
   "cell_type": "code",
   "execution_count": 52,
   "metadata": {},
   "outputs": [
    {
     "name": "stdout",
     "output_type": "stream",
     "text": [
      "0.0005808707910432705\n"
     ]
    }
   ],
   "source": [
    "pred_y = stacker.predict(dataset_blend_train_not_nested)\n",
    "print(gini_normalized(tr_all_y, pred_y))"
   ]
  },
  {
   "cell_type": "code",
   "execution_count": null,
   "metadata": {},
   "outputs": [],
   "source": [
    "pd.DataFrame({'target':y_pred, 'id': test_df['id']}).to_csv('../dataset/submission.csv', index=False)"
   ]
  }
 ],
 "metadata": {
  "kernelspec": {
   "display_name": "Python 3",
   "language": "python",
   "name": "python3"
  },
  "language_info": {
   "codemirror_mode": {
    "name": "ipython",
    "version": 3
   },
   "file_extension": ".py",
   "mimetype": "text/x-python",
   "name": "python",
   "nbconvert_exporter": "python",
   "pygments_lexer": "ipython3",
   "version": "3.6.5"
  }
 },
 "nbformat": 4,
 "nbformat_minor": 2
}
